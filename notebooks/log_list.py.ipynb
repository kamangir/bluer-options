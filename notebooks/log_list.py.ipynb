{
 "cells": [
  {
   "attachments": {},
   "cell_type": "markdown",
   "metadata": {},
   "source": [
    "# 🌀 [log_list](../bluer_options/logger/config.py)"
   ]
  },
  {
   "cell_type": "code",
   "execution_count": 1,
   "metadata": {},
   "outputs": [
    {
     "name": "stderr",
     "output_type": "stream",
     "text": [
      "::  bluer_options-5.175.1.blueness-3.118.1.torch-2.2.2.Python 3.12.9.Darwin 23.6.0..Jupyter-Notebook,\n",
      "built on 02 October 2025, 15:02:24\n"
     ]
    }
   ],
   "source": [
    "from bluer_options import string\n",
    "\n",
    "from bluer_options.logger.config import log_list_as_str, log_list\n",
    "from bluer_options.host import signature\n",
    "from bluer_options.logger import logger\n",
    "\n",
    "logger.info(f\"{'.'.join(signature())},\\nbuilt on {string.pretty_date()}\")"
   ]
  },
  {
   "attachments": {},
   "cell_type": "markdown",
   "metadata": {},
   "source": [
    "---"
   ]
  },
  {
   "cell_type": "code",
   "execution_count": 2,
   "metadata": {},
   "outputs": [],
   "source": [
    "list_of_items = [string.random() for _ in range(10)]"
   ]
  },
  {
   "cell_type": "code",
   "execution_count": 3,
   "metadata": {},
   "outputs": [
    {
     "name": "stderr",
     "output_type": "stream",
     "text": [
      "::  max_count=-1\n",
      "::  list of 10 item(s): l9020qqgkrwkpd0f, czldm3i2y4t9h4vo, s4avlylhye5wfps1, fdfn2byub6bcia1z, 0muigx1zqvlepnk8, ivswap90yebjkpbf, kc66ulkdf3u84ibw, igioit431dk9fndp, ojw4mv7376wtjdst, inat71b03918qqyw\n",
      "::  max_count=3\n",
      "::  list of 10 item(s): l9020qqgkrwkpd0f, czldm3i2y4t9h4vo, s4avlylhye5wfps1, ...\n"
     ]
    }
   ],
   "source": [
    "for max_count in [-1, 3]:\n",
    "    logger.info(f\"max_count={max_count}\")\n",
    "    logger.info(log_list_as_str(\n",
    "        \"list of\",\n",
    "        list_of_items,\n",
    "        \"item(s)\",\n",
    "        max_count=max_count\n",
    "    ))"
   ]
  },
  {
   "attachments": {},
   "cell_type": "markdown",
   "metadata": {},
   "source": [
    "---"
   ]
  },
  {
   "cell_type": "code",
   "execution_count": 4,
   "metadata": {},
   "outputs": [
    {
     "name": "stderr",
     "output_type": "stream",
     "text": [
      "::  itemize=True, max_count=-1, max_length=-1\n",
      "::  list of 10 item(s)\n",
      "::  #   0 - l9020qqgkrwkpd0f\n",
      "::  #   1 - czldm3i2y4t9h4vo\n",
      "::  #   2 - s4avlylhye5wfps1\n",
      "::  #   3 - fdfn2byub6bcia1z\n",
      "::  #   4 - 0muigx1zqvlepnk8\n",
      "::  #   5 - ivswap90yebjkpbf\n",
      "::  #   6 - kc66ulkdf3u84ibw\n",
      "::  #   7 - igioit431dk9fndp\n",
      "::  #   8 - ojw4mv7376wtjdst\n",
      "::  #   9 - inat71b03918qqyw\n",
      "::  itemize=True, max_count=-1, max_length=5\n",
      "::  list of 10 item(s)\n",
      "::  #   0 - l9020...\n",
      "::  #   1 - czldm...\n",
      "::  #   2 - s4avl...\n",
      "::  #   3 - fdfn2...\n",
      "::  #   4 - 0muig...\n",
      "::  #   5 - ivswa...\n",
      "::  #   6 - kc66u...\n",
      "::  #   7 - igioi...\n",
      "::  #   8 - ojw4m...\n",
      "::  #   9 - inat7...\n",
      "::  itemize=True, max_count=3, max_length=-1\n",
      "::  list of 10 item(s)\n",
      "::  #   0 - l9020qqgkrwkpd0f\n",
      "::  #   1 - czldm3i2y4t9h4vo\n",
      "::  #   2 - s4avlylhye5wfps1\n",
      "::  ...\n",
      "::  itemize=True, max_count=3, max_length=5\n",
      "::  list of 10 item(s)\n",
      "::  #   0 - l9020...\n",
      "::  #   1 - czldm...\n",
      "::  #   2 - s4avl...\n",
      "::  ...\n",
      "::  itemize=False, max_count=-1, max_length=-1\n",
      "::  list of 10 item(s): l9020qqgkrwkpd0f, czldm3i2y4t9h4vo, s4avlylhye5wfps1, fdfn2byub6bcia1z, 0muigx1zqvlepnk8, ivswap90yebjkpbf, kc66ulkdf3u84ibw, igioit431dk9fndp, ojw4mv7376wtjdst, inat71b03918qqyw\n",
      "::  itemize=False, max_count=-1, max_length=5\n",
      "::  list of 10 item(s): l9020qqgkrwkpd0f, czldm3i2y4t9h4vo, s4avlylhye5wfps1, fdfn2byub6bcia1z, 0muigx1zqvlepnk8, ivswap90yebjkpbf, kc66ulkdf3u84ibw, igioit431dk9fndp, ojw4mv7376wtjdst, inat71b03918qqyw\n",
      "::  itemize=False, max_count=3, max_length=-1\n",
      "::  list of 10 item(s): l9020qqgkrwkpd0f, czldm3i2y4t9h4vo, s4avlylhye5wfps1, ...\n",
      "::  itemize=False, max_count=3, max_length=5\n",
      "::  list of 10 item(s): l9020qqgkrwkpd0f, czldm3i2y4t9h4vo, s4avlylhye5wfps1, ...\n"
     ]
    }
   ],
   "source": [
    "for itemize in [True, False]:\n",
    "    for max_count in [-1, 3]:\n",
    "        for max_length in [-1, 5]:\n",
    "            logger.info(f\"itemize={itemize}, max_count={max_count}, max_length={max_length}\")\n",
    "            log_list(\n",
    "                logger,\n",
    "                \"list of\",\n",
    "                list_of_items,\n",
    "                \"item(s)\",\n",
    "                max_count=max_count,\n",
    "                max_length=max_length,\n",
    "                itemize=itemize,\n",
    "            )"
   ]
  },
  {
   "cell_type": "markdown",
   "metadata": {},
   "source": [
    "---"
   ]
  },
  {
   "cell_type": "code",
   "execution_count": 5,
   "metadata": {},
   "outputs": [],
   "source": [
    "# END"
   ]
  }
 ],
 "metadata": {
  "kernelspec": {
   "display_name": "base",
   "language": "python",
   "name": "python3"
  },
  "language_info": {
   "codemirror_mode": {
    "name": "ipython",
    "version": 3
   },
   "file_extension": ".py",
   "mimetype": "text/x-python",
   "name": "python",
   "nbconvert_exporter": "python",
   "pygments_lexer": "ipython3",
   "version": "3.12.9"
  },
  "toc": {
   "base_numbering": 1,
   "nav_menu": {},
   "number_sections": true,
   "sideBar": true,
   "skip_h1_title": false,
   "title_cell": "Table of Contents",
   "title_sidebar": "Contents",
   "toc_cell": false,
   "toc_position": {},
   "toc_section_display": true,
   "toc_window_display": false
  }
 },
 "nbformat": 4,
 "nbformat_minor": 2
}
