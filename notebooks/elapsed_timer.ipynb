{
 "cells": [
  {
   "attachments": {},
   "cell_type": "markdown",
   "metadata": {},
   "source": [
    "# 🌀 ElapsedTimer\n",
    ": [test_timing_elapsed_timer](../bluer_options/tests/test_timing_elapsed_timer.py)"
   ]
  },
  {
   "cell_type": "code",
   "execution_count": 1,
   "metadata": {},
   "outputs": [
    {
     "name": "stderr",
     "output_type": "stream",
     "text": [
      "::  bluer_options-5.167.1.torch-2.2.2.Python 3.12.9.Darwin 23.6.0..Jupyter-Notebook,\n",
      "built on 22 September 2025, 18:31:58\n"
     ]
    }
   ],
   "source": [
    "from time import sleep\n",
    "\n",
    "from bluer_options import string\n",
    "\n",
    "from bluer_options.timing import ElapsedTimer\n",
    "from bluer_options.host import signature\n",
    "from bluer_options.logger import logger\n",
    "\n",
    "logger.info(f\"{'.'.join(signature())},\\nbuilt on {string.pretty_date()}\")"
   ]
  },
  {
   "attachments": {},
   "cell_type": "markdown",
   "metadata": {},
   "source": [
    "---"
   ]
  },
  {
   "cell_type": "code",
   "execution_count": 2,
   "metadata": {},
   "outputs": [],
   "source": [
    "elapsed_timer = ElapsedTimer()"
   ]
  },
  {
   "cell_type": "code",
   "execution_count": 3,
   "metadata": {},
   "outputs": [
    {
     "name": "stderr",
     "output_type": "stream",
     "text": [
      "::  004 millisecond(s)\n"
     ]
    }
   ],
   "source": [
    "logger.info(elapsed_timer.as_str(include_ms=True, stop=False))\n",
    "# must be ~ \"1 millisecond(s)\""
   ]
  },
  {
   "cell_type": "code",
   "execution_count": 4,
   "metadata": {},
   "outputs": [],
   "source": [
    "sleep(0.1)"
   ]
  },
  {
   "cell_type": "code",
   "execution_count": 5,
   "metadata": {},
   "outputs": [
    {
     "name": "stderr",
     "output_type": "stream",
     "text": [
      "::  116 millisecond(s)\n"
     ]
    }
   ],
   "source": [
    "logger.info(elapsed_timer.as_str(include_ms=True, stop=False))\n",
    "# must be ~ \"100 millisecond(s)\""
   ]
  },
  {
   "cell_type": "code",
   "execution_count": 6,
   "metadata": {},
   "outputs": [],
   "source": [
    "sleep(1)"
   ]
  },
  {
   "cell_type": "code",
   "execution_count": 7,
   "metadata": {},
   "outputs": [],
   "source": [
    "elapsed_timer.stop()"
   ]
  },
  {
   "cell_type": "code",
   "execution_count": 8,
   "metadata": {},
   "outputs": [
    {
     "name": "stderr",
     "output_type": "stream",
     "text": [
      "::  1 second(s), 141 millisecond(s)\n"
     ]
    }
   ],
   "source": [
    "logger.info(elapsed_timer.as_str(include_ms=True))\n",
    "# must be ~ \"1 second(s), 110 millisecond(s)\""
   ]
  },
  {
   "cell_type": "code",
   "execution_count": 9,
   "metadata": {},
   "outputs": [],
   "source": [
    "sleep(0.5)"
   ]
  },
  {
   "cell_type": "code",
   "execution_count": 10,
   "metadata": {},
   "outputs": [
    {
     "name": "stderr",
     "output_type": "stream",
     "text": [
      "::  1 second(s), 141 millisecond(s)\n"
     ]
    }
   ],
   "source": [
    "logger.info(elapsed_timer.as_str(include_ms=True))\n",
    "# must be the same as ⬆️"
   ]
  },
  {
   "attachments": {},
   "cell_type": "markdown",
   "metadata": {},
   "source": [
    "---"
   ]
  },
  {
   "cell_type": "code",
   "execution_count": 11,
   "metadata": {},
   "outputs": [],
   "source": [
    "# END"
   ]
  }
 ],
 "metadata": {
  "kernelspec": {
   "display_name": "base",
   "language": "python",
   "name": "python3"
  },
  "language_info": {
   "codemirror_mode": {
    "name": "ipython",
    "version": 3
   },
   "file_extension": ".py",
   "mimetype": "text/x-python",
   "name": "python",
   "nbconvert_exporter": "python",
   "pygments_lexer": "ipython3",
   "version": "3.12.9"
  },
  "toc": {
   "base_numbering": 1,
   "nav_menu": {},
   "number_sections": true,
   "sideBar": true,
   "skip_h1_title": false,
   "title_cell": "Table of Contents",
   "title_sidebar": "Contents",
   "toc_cell": false,
   "toc_position": {},
   "toc_section_display": true,
   "toc_window_display": false
  }
 },
 "nbformat": 4,
 "nbformat_minor": 2
}
